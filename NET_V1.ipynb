{
 "cells": [
  {
   "cell_type": "code",
   "execution_count": 1,
   "metadata": {},
   "outputs": [],
   "source": [
    "import numpy as np\n",
    "import pandas as pd\n",
    "import pulp as plp\n",
    "import matplotlib.pyplot as plt"
   ]
  },
  {
   "cell_type": "code",
   "execution_count": 2,
   "metadata": {},
   "outputs": [],
   "source": [
    "# !pip install pulp"
   ]
  },
  {
   "cell_type": "code",
   "execution_count": 3,
   "metadata": {},
   "outputs": [
    {
     "ename": "IndentationError",
     "evalue": "expected an indented block (<ipython-input-3-15a85610a928>, line 3)",
     "output_type": "error",
     "traceback": [
      "\u001b[1;36m  File \u001b[1;32m\"<ipython-input-3-15a85610a928>\"\u001b[1;36m, line \u001b[1;32m3\u001b[0m\n\u001b[1;33m    np.random.seed(3)\u001b[0m\n\u001b[1;37m     ^\u001b[0m\n\u001b[1;31mIndentationError\u001b[0m\u001b[1;31m:\u001b[0m expected an indented block\n"
     ]
    }
   ],
   "source": [
    "\n",
    "def node(size = 6,position = \"Random\"):\n",
    "    if position == \"Random\":\n",
    "    np.random.seed(3)\n",
    "    x = np.random.uniform(0,5,n)\n",
    "    y = np.random.uniform(0,5,n)\n",
    "    \n",
    "    \n",
    "        \n",
    "    "
   ]
  },
  {
   "cell_type": "code",
   "execution_count": 65,
   "metadata": {},
   "outputs": [],
   "source": [
    "n = 8\n",
    "np.random.seed(3)\n",
    "x = np.random.uniform(0,5,n)\n",
    "y = np.random.uniform(0,5,n)\n",
    "x[0] = -0.1\n",
    "y[0] = 1.5\n",
    "x[-1] = 5\n",
    "y[-1] = 1.5\n",
    "xn = x.copy(); yn = y.copy();\n",
    "xn[1] = 5;\n",
    "yn[1] = 0;\n",
    "xn[5] = 5;\n",
    "yn[5] = 5;\n"
   ]
  },
  {
   "cell_type": "code",
   "execution_count": 66,
   "metadata": {},
   "outputs": [
    {
     "data": {
      "image/png": "[encoded data removed]",
      "text/plain": [
       "<Figure size 432x288 with 1 Axes>"
      ]
     },
     "metadata": {
      "needs_background": "light"
     },
     "output_type": "display_data"
    }
   ],
   "source": [
    "plt.scatter(x,y);"
   ]
  },
  {
   "cell_type": "code",
   "execution_count": 67,
   "metadata": {},
   "outputs": [],
   "source": [
    "d = np.zeros(shape = (n,n));dn = d.copy()"
   ]
  },
  {
   "cell_type": "code",
   "execution_count": 68,
   "metadata": {},
   "outputs": [
    {
     "data": {
      "text/plain": [
       "array([[0.        , 3.70818913, 2.05929975, 2.76755581, 4.887161  ,\n",
       "        4.58272796, 2.01719381, 5.1       ],\n",
       "       [3.70818913, 0.        , 2.92813183, 0.98984869, 1.39242468,\n",
       "        1.24244975, 3.14170915, 1.62022456],\n",
       "       [2.05929975, 2.92813183, 0.        , 2.40134524, 4.31841256,\n",
       "        3.27224128, 3.33592538, 3.79401816],\n",
       "       [2.76755581, 0.98984869, 2.40134524, 0.        , 2.13891707,\n",
       "        2.12362258, 2.21674028, 2.5684932 ],\n",
       "       [4.887161  , 1.39242468, 4.31841256, 2.13891707, 0.        ,\n",
       "        1.85335934, 3.83920204, 1.82593757],\n",
       "       [4.58272796, 1.24244975, 3.27224128, 2.12362258, 1.85335934,\n",
       "        0.        , 4.33650077, 0.52957342],\n",
       "       [2.01719381, 3.14170915, 3.33592538, 2.21674028, 3.83920204,\n",
       "        4.33650077, 0.        , 4.75964495],\n",
       "       [5.1       , 1.62022456, 3.79401816, 2.5684932 , 1.82593757,\n",
       "        0.52957342, 4.75964495, 0.        ]])"
      ]
     },
     "execution_count": 68,
     "metadata": {},
     "output_type": "execute_result"
    }
   ],
   "source": [
    "for i in range(n):\n",
    "    for j in range(n):\n",
    "        d[i,j] = np.sqrt((x[i]-x[j])**2 + (y[i]-y[j])**2)\n",
    "        dn[i,j] = np.sqrt((xn[i]-xn[j])**2 + (yn[i]-yn[j])**2)\n",
    "d"
   ]
  },
  {
   "cell_type": "code",
   "execution_count": 69,
   "metadata": {},
   "outputs": [],
   "source": [
    "t = 2.5\n",
    "A = d < t\n",
    "An = dn < t"
   ]
  },
  {
   "cell_type": "code",
   "execution_count": 70,
   "metadata": {},
   "outputs": [
    {
     "data": {
      "text/plain": [
       "array([[ True, False,  True, False, False, False,  True, False],\n",
       "       [False,  True, False,  True,  True,  True, False,  True],\n",
       "       [ True, False,  True,  True, False, False, False, False],\n",
       "       [False,  True,  True,  True,  True,  True,  True, False],\n",
       "       [False,  True, False,  True,  True,  True, False,  True],\n",
       "       [False,  True, False,  True,  True,  True, False,  True],\n",
       "       [ True, False, False,  True, False, False,  True, False],\n",
       "       [False,  True, False, False,  True,  True, False,  True]])"
      ]
     },
     "execution_count": 70,
     "metadata": {},
     "output_type": "execute_result"
    }
   ],
   "source": [
    "A"
   ]
  },
  {
   "cell_type": "code",
   "execution_count": 71,
   "metadata": {},
   "outputs": [
    {
     "data": {
      "image/png": "[encoded data removed]",
      "text/plain": [
       "<Figure size 432x288 with 1 Axes>"
      ]
     },
     "metadata": {
      "needs_background": "light"
     },
     "output_type": "display_data"
    }
   ],
   "source": [
    "plt.scatter(x,y);\n",
    "for i in range(n):\n",
    "    for j in range(n):\n",
    "        if A[i,j]:\n",
    "            plt.plot([x[i],x[j]], [y[i],y[j]])"
   ]
  },
  {
   "cell_type": "code",
   "execution_count": 72,
   "metadata": {},
   "outputs": [
    {
     "data": {
      "image/png": "[encoded data removed]",
      "text/plain": [
       "<Figure size 432x288 with 1 Axes>"
      ]
     },
     "metadata": {
      "needs_background": "light"
     },
     "output_type": "display_data"
    }
   ],
   "source": [
    "plt.scatter(xn,yn);\n",
    "for i in range(n):\n",
    "    for j in range(n):\n",
    "        if An[i,j]:\n",
    "            plt.plot([xn[i],xn[j]], [yn[i],yn[j]])"
   ]
  },
  {
   "cell_type": "code",
   "execution_count": 139,
   "metadata": {},
   "outputs": [
    {
     "name": "stdout",
     "output_type": "stream",
     "text": [
      "[ 0.         20.8902901  20.12305786  0.        ]\n",
      "[ 0.         20.46116841 21.38295502 21.30095372 21.44787828 20.95017722\n",
      " 21.19332755  0.        ]\n"
     ]
    }
   ],
   "source": [
    "m = 4 # number of apps\n",
    "P = np.array([[0,1,0,0],\n",
    "              [0,0,1,0],\n",
    "              [0,0,0,1],\n",
    "              [0,0,0,0]])\n",
    "Dmd = np.random.uniform(low=20, high=22, size=m); Dmd[0]=0; Dmd[-1]=0;print(Dmd)\n",
    "\n",
    "Cap = np.random.uniform(low=20, high=22, size=n); Cap[0]=0; Cap[-1]=0;print(Cap); #Cap[7] = 1;"
   ]
  },
  {
   "cell_type": "code",
   "execution_count": 140,
   "metadata": {},
   "outputs": [
    {
     "name": "stdout",
     "output_type": "stream",
     "text": [
      "1\n"
     ]
    }
   ],
   "source": [
    "\n",
    "#variables\n",
    "\n",
    "x_vars  =  {\"x_{0}_{1}\".format(i,j): plp.LpVariable(cat = plp.LpBinary, name=\"x_{0}_{1}\".format(i,j)) for i in range(n) for j in range(n)}\n",
    "y_vars  =  {\"y_{0}_{1}\".format(i,a): plp.LpVariable(cat = plp.LpBinary, name=\"y_{0}_{1}\".format(i,a)) for i in range(n) for a in range(m)}\n",
    "w_vars  =  {\"w_{0}\".format(i): plp.LpVariable(cat = plp.LpBinary, name=\"w_{0}\".format(i)) for i in range(n)}\n",
    "e_vars  =  {\"e_{0}\".format(i): plp.LpVariable(cat = plp.LpBinary, name=\"e_{0}\".format(i)) for i in range(1,n-1)}\n",
    "t_vars  =  {\"t_{0}_{1}_{2}\".format(i,j,a): plp.LpVariable(cat = plp.LpBinary, name=\"t_{0}_{1}_{2}\".format(i,j,a)) for i in range(n) for j in range(n) for a in range(m)}\n",
    "\n",
    "#new variables for moved node\n",
    "xn_vars  =  {\"x_{0}_{1}\".format(i,j): plp.LpVariable(cat = plp.LpBinary, name=\"x_{0}_{1}\".format(i,j)) for i in range(n) for j in range(n)}\n",
    "yn_vars  =  {\"y_{0}_{1}\".format(i,a): plp.LpVariable(cat = plp.LpBinary, name=\"y_{0}_{1}\".format(i,a)) for i in range(n) for a in range(m)}\n",
    "wn_vars  =  {\"w_{0}\".format(i): plp.LpVariable(cat = plp.LpBinary, name=\"w_{0}\".format(i)) for i in range(n)}\n",
    "en_vars  =  {\"e_{0}\".format(i): plp.LpVariable(cat = plp.LpBinary, name=\"e_{0}\".format(i)) for i in range(1,n-1)}\n",
    "tn_vars  =  {\"t_{0}_{1}_{2}\".format(i,j,a): plp.LpVariable(cat = plp.LpBinary, name=\"t_{0}_{1}_{2}\".format(i,j,a)) for i in range(n) for j in range(n) for a in range(m)}\n",
    "\n",
    "def createModel(x_vars, y_vars, w_vars, e_vars, t_vars, A):\n",
    "    opt_model_simple = plp.LpProblem(name=\"MILP_Model\")\n",
    "    M = 100000\n",
    "\n",
    "\n",
    "# 1\n",
    "    con = [opt_model_simple.addConstraint(plp.LpConstraint(\n",
    "                e = plp.lpSum(x_vars[\"x_{0}_{1}\".format(0,j)] for j in range(n)), \n",
    "                sense = plp.LpConstraintGE,\n",
    "                rhs = 1,\n",
    "                name=\"source0\"))]\n",
    "\n",
    "    con = [opt_model_simple.addConstraint(plp.LpConstraint(\n",
    "                e = y_vars[\"y_{0}_{1}\".format(0,0)], \n",
    "                sense = plp.LpConstraintEQ,\n",
    "                rhs = 1,\n",
    "                name=\"source1\"))]\n",
    "\n",
    "# 2\n",
    "    con = [opt_model_simple.addConstraint(plp.LpConstraint(\n",
    "                e = plp.lpSum(x_vars[\"x_{0}_{1}\".format(j,n-1)] for j in range(n)), \n",
    "                sense = plp.LpConstraintGE,\n",
    "                rhs = 1,\n",
    "                name=\"sink0\"))]\n",
    "\n",
    "    con = [opt_model_simple.addConstraint(plp.LpConstraint(\n",
    "                e = y_vars[\"y_{0}_{1}\".format(n-1,m-1)], \n",
    "                sense = plp.LpConstraintGE,\n",
    "                rhs = 1,\n",
    "                name=\"sink1\"))]\n",
    "\n",
    "    con = {\"loop_{0}_{1}\".format(i,j) : opt_model_simple.addConstraint(plp.LpConstraint(\n",
    "                e = x_vars[\"x_{0}_{1}\".format(i,j)] + x_vars[\"x_{0}_{1}\".format(j,i)] , \n",
    "                sense = plp.LpConstraintLE,\n",
    "                rhs = 1,\n",
    "                name=\"loop_{0}_{1}\".format(i,j))) for i in range(n) for j in range(n)}\n",
    "\n",
    "\n",
    "    con = {\"entry1_{0}\".format(i) : opt_model_simple.addConstraint(plp.LpConstraint(\n",
    "                e = plp.lpSum(x_vars[\"x_{0}_{1}\".format(j,i)] for j in range(n)) - e_vars[\"e_{0}\".format(i)], \n",
    "                sense = plp.LpConstraintEQ,\n",
    "                rhs = 0,\n",
    "                name=\"entry1_{0}\".format(i))) for i in range(1,n-1)}\n",
    "\n",
    "\n",
    "\n",
    "    con = {\"output1_{0}\".format(i) : opt_model_simple.addConstraint(plp.LpConstraint(\n",
    "                e = plp.lpSum(x_vars[\"x_{0}_{1}\".format(i,j)] for j in range(n)) - e_vars[\"e_{0}\".format(i)],  \n",
    "                sense = plp.LpConstraintEQ,\n",
    "                rhs = 0,\n",
    "                name=\"output1_{0}\".format(i))) for i in range(1,n-1)}\n",
    "\n",
    "\n",
    "\n",
    "\n",
    "\n",
    "\n",
    "\n",
    "\n",
    "\n",
    "\n",
    "\n",
    "\n",
    "\n",
    "\n",
    "\n",
    "\n",
    "\n",
    "    con = [opt_model_simple.addConstraint(plp.LpConstraint(\n",
    "                e = plp.lpSum(Dmd[a]*y_vars[\"y_{0}_{1}\".format(i,a)] for a in range(m)),  \n",
    "                sense = plp.LpConstraintLE,\n",
    "                rhs = Cap[i],\n",
    "                name=\"demand_{0}\".format(i))) for i in range(n)]\n",
    "\n",
    "\n",
    "    con = [opt_model_simple.addConstraint(plp.LpConstraint(\n",
    "                e = x_vars[\"x_{0}_{1}\".format(i,j)], \n",
    "                sense = plp.LpConstraintLE,\n",
    "                rhs = 0,\n",
    "                name=\"isConn_{0}_{1}\".format(i,j))) for i in range(n) for j in range(n) if (i == j) or (not A[i,j]) ]\n",
    "\n",
    "    con = [opt_model_simple.addConstraint(plp.LpConstraint(\n",
    "                e = plp.lpSum(y_vars[\"y_{0}_{1}\".format(i,a)] for a in range(m)) - e_vars[\"e_{0}\".format(i)], \n",
    "                sense = plp.LpConstraintLE,\n",
    "                rhs = 0,\n",
    "                name=\"aloc1_{0}\".format(i))) for i in range(1,n-1)]\n",
    "\n",
    "    con = [opt_model_simple.addConstraint(plp.LpConstraint(\n",
    "                e = plp.lpSum(y_vars[\"y_{0}_{1}\".format(i,a)] for i in range(n)), \n",
    "                sense = plp.LpConstraintEQ,\n",
    "                rhs = 1,\n",
    "                name=\"aloc2_{0}\".format(a))) for a in range(m)]\n",
    "    \n",
    "\n",
    "\n",
    "\n",
    "    con = [opt_model_simple.addConstraint(plp.LpConstraint(\n",
    "                e = w_vars[\"w_{0}\".format(i)] - plp.lpSum(y_vars[\"y_{0}_{1}\".format(i,a)] for a in range(m)), \n",
    "                sense = plp.LpConstraintEQ,\n",
    "                rhs = 0,\n",
    "                name=\"w_{0}\".format(i))) for i in range(n)]\n",
    "    \n",
    "    con = [opt_model_simple.addConstraint(plp.LpConstraint(\n",
    "                e = plp.lpSum(t_vars[\"t_{0}_{1}_{2}\".format(i,j,a)] for a in range(m)) - x_vars[\"x_{0}_{1}\".format(i,j)], \n",
    "                sense = plp.LpConstraintEQ,\n",
    "                rhs = 0,\n",
    "                name=\"t1_{0}_{1}\".format(i,j))) for i in range(n) for j in range(n)]\n",
    "    \n",
    "    \n",
    "    con = [opt_model_simple.addConstraint(plp.LpConstraint(\n",
    "                e = t_vars[\"t_{0}_{1}_{2}\".format(i,j,a)] - M*(2 - y_vars[\"y_{0}_{1}\".format(i,a)] - x_vars[\"x_{0}_{1}\".format(i,j)]),\n",
    "                sense = plp.LpConstraintLE,\n",
    "                rhs = 1,\n",
    "                name=\"t2_{0}_{1}_{2}\".format(i,j,a))) for i in range(n) for j in range(n) for a in range(m)]\n",
    "    \n",
    "    con = [opt_model_simple.addConstraint(plp.LpConstraint(\n",
    "                e = t_vars[\"t_{0}_{1}_{2}\".format(i,j,a)] + M*(2 - y_vars[\"y_{0}_{1}\".format(i,a)] - x_vars[\"x_{0}_{1}\".format(i,j)]),\n",
    "                sense = plp.LpConstraintGE,\n",
    "                rhs = 1,\n",
    "                name=\"t3_{0}_{1}_{2}\".format(i,j,a))) for i in range(n) for j in range(n) for a in range(m)]\n",
    "    \n",
    "    con = [opt_model_simple.addConstraint(plp.LpConstraint(\n",
    "                e = t_vars[\"t_{0}_{1}_{2}\".format(i,j,a)] - plp.lpSum(t_vars[\"t_{0}_{1}_{2}\".format(k,i,a)] for k in range(n)) - M*(1 + w_vars[\"w_{0}\".format(i)] - x_vars[\"x_{0}_{1}\".format(i,j)]),\n",
    "                sense = plp.LpConstraintLE,\n",
    "                rhs = 0,\n",
    "                name=\"t4_{0}_{1}_{2}\".format(i,j,a))) for i in range(n) for j in range(n) for a in range(m)]\n",
    "    \n",
    "    \n",
    "    con = [opt_model_simple.addConstraint(plp.LpConstraint(\n",
    "                e = t_vars[\"t_{0}_{1}_{2}\".format(i,j,a)] - plp.lpSum(t_vars[\"t_{0}_{1}_{2}\".format(k,i,a)] for k in range(n)) + M*(1 + w_vars[\"w_{0}\".format(i)] - x_vars[\"x_{0}_{1}\".format(i,j)]),\n",
    "                sense = plp.LpConstraintGE,\n",
    "                rhs = 0,\n",
    "                name=\"t5_{0}_{1}_{2}\".format(i,j,a))) for i in range(n) for j in range(n) for a in range(m)]\n",
    "    \n",
    "    \n",
    "    con = [opt_model_simple.addConstraint(plp.LpConstraint(\n",
    "                e = t_vars[\"t_{0}_{1}_{2}\".format(i,j,a)] - M*(3 - y_vars[\"y_{0}_{1}\".format(j,b)] - x_vars[\"x_{0}_{1}\".format(i,j)] - P[a,b]),\n",
    "                sense = plp.LpConstraintLE,\n",
    "                rhs = 1,\n",
    "                name=\"t6_{0}_{1}_{2}_{3}\".format(i,j,a,b))) for i in range(n) for j in range(n) for a in range(m) for b in range(m)]\n",
    "    \n",
    "    con = [opt_model_simple.addConstraint(plp.LpConstraint(\n",
    "                e = t_vars[\"t_{0}_{1}_{2}\".format(i,j,a)] + M*(3 - y_vars[\"y_{0}_{1}\".format(j,b)] - x_vars[\"x_{0}_{1}\".format(i,j)] - P[a,b]),\n",
    "                sense = plp.LpConstraintGE,\n",
    "                rhs = 1,\n",
    "                name=\"t7_{0}_{1}_{2}_{3}\".format(i,j,a,b))) for i in range(n) for j in range(n) for a in range(m) for b in range(m)]\n",
    "    \n",
    "    \n",
    "    \n",
    "    return opt_model_simple\n",
    "\n",
    "opt_model_simple = createModel(x_vars, y_vars, w_vars, e_vars, t_vars, A)\n",
    "\n",
    "\n",
    "objective = plp.lpSum((d[i,j]+10)*x_vars[\"x_{0}_{1}\".format(i,j)] \n",
    "                      for i in range(n) \n",
    "                      for j in range(n))\n",
    "# for minimization\n",
    "opt_model_simple.sense = plp.LpMinimize\n",
    "opt_model_simple.setObjective(objective)\n",
    "\n",
    "# solving with local cplex\n",
    "print(opt_model_simple.solve())\n",
    "\n",
    "opt_model_simple.numConstraints()\n",
    "\n",
    "#### X\n",
    "x_df = pd.DataFrame.from_dict(x_vars, orient=\"index\", \n",
    "                                columns = [\"variable_object\"])\n",
    "\n",
    "x_df[\"solution_value\"] = x_df[\"variable_object\"].apply(lambda item: item.varValue)\n",
    "\n",
    "##### E\n",
    "e_df = pd.DataFrame.from_dict(e_vars, orient=\"index\", \n",
    "                                columns = [\"variable_object\"])\n",
    "\n",
    "e_df[\"solution_value\"] = e_df[\"variable_object\"].apply(lambda item: item.varValue)\n",
    "\n",
    "\n",
    "\n",
    "#### Y\n",
    "y_df = pd.DataFrame.from_dict(y_vars, orient=\"index\", \n",
    "                                columns = [\"variable_object\"])\n",
    "\n",
    "y_df[\"solution_value\"] = y_df[\"variable_object\"].apply(lambda item: item.varValue)\n"
   ]
  },
  {
   "cell_type": "code",
   "execution_count": 141,
   "metadata": {},
   "outputs": [
    {
     "name": "stdout",
     "output_type": "stream",
     "text": [
      "t_0_6_0\n",
      "t_1_7_2\n",
      "t_3_1_2\n",
      "t_6_3_1\n"
     ]
    }
   ],
   "source": [
    "for k,v in t_vars.items():\n",
    "    if v.varValue > 0.0:\n",
    "        print(k)"
   ]
  },
  {
   "cell_type": "code",
   "execution_count": 142,
   "metadata": {},
   "outputs": [
    {
     "name": "stdout",
     "output_type": "stream",
     "text": [
      "x_0_6\n",
      "x_1_7\n",
      "x_3_1\n",
      "x_6_3\n",
      "forward path : {0: 6, 1: 7, 3: 1, 6: 3} \n",
      "backward path : {6: 0, 7: 1, 1: 3, 3: 6}\n"
     ]
    }
   ],
   "source": [
    "ForwardPath = {}\n",
    "BackwardPath = {}\n",
    "for k,v in x_vars.items():\n",
    "    if v.varValue > 0.0:\n",
    "        print(k)\n",
    "        i,j = list(map(int,k.split(\"_\")[1:]))\n",
    "        ForwardPath[i] = j\n",
    "        BackwardPath[j] = i\n",
    "print(f\"forward path : {ForwardPath} \\nbackward path : {BackwardPath}\" )"
   ]
  },
  {
   "cell_type": "code",
   "execution_count": 143,
   "metadata": {},
   "outputs": [
    {
     "name": "stdout",
     "output_type": "stream",
     "text": [
      "y_0_0\n",
      "y_3_2\n",
      "y_6_1\n",
      "y_7_3\n"
     ]
    }
   ],
   "source": [
    "for k,v in y_vars.items():\n",
    "    if v.varValue != None:\n",
    "        if v.varValue > 0:\n",
    "            print(k)\n",
    "# print(y_df.sum())"
   ]
  },
  {
   "cell_type": "code",
   "execution_count": 144,
   "metadata": {},
   "outputs": [
    {
     "name": "stdout",
     "output_type": "stream",
     "text": [
      "w_0\n",
      "w_3\n",
      "w_6\n",
      "w_7\n"
     ]
    }
   ],
   "source": [
    "for k,v in w_vars.items():\n",
    "    if v.varValue != None:\n",
    "        if v.varValue > 0 :\n",
    "            print(k)"
   ]
  },
  {
   "cell_type": "code",
   "execution_count": 145,
   "metadata": {},
   "outputs": [
    {
     "data": {
      "image/png": "[encoded data removed]",
      "text/plain": [
       "<Figure size 432x288 with 1 Axes>"
      ]
     },
     "metadata": {
      "needs_background": "light"
     },
     "output_type": "display_data"
    }
   ],
   "source": [
    "plt.scatter(x,y);\n",
    "for i in range(n):\n",
    "    plt.annotate(i, (x[i], y[i]))\n",
    "    \n",
    "for k,v in x_vars.items():\n",
    "    if v.varValue > 0.5:\n",
    "        i,j = list(map(int,k.split(\"_\")[1:]))\n",
    "        plt.plot([x[i],x[j]], [y[i],y[j]])\n",
    "xx = []\n",
    "yy = []\n",
    "for k,v in y_vars.items():\n",
    "    if v.varValue > 0.5:\n",
    "        i,a = list(map(int,k.split(\"_\")[1:]))\n",
    "        xx.append(x[i])\n",
    "        yy.append(y[i])\n",
    "plt.scatter(xx,yy);"
   ]
  },
  {
   "cell_type": "code",
   "execution_count": 146,
   "metadata": {},
   "outputs": [
    {
     "data": {
      "image/png": "[encoded data removed]",
      "text/plain": [
       "<Figure size 432x288 with 1 Axes>"
      ]
     },
     "metadata": {
      "needs_background": "light"
     },
     "output_type": "display_data"
    }
   ],
   "source": [
    "plt.scatter(xn,yn);\n",
    "for i in range(n):\n",
    "    plt.annotate(i, (xn[i], yn[i]))\n",
    "    \n",
    "for k,v in x_vars.items():\n",
    "    if v.varValue > 0.5:\n",
    "        i,j = list(map(int,k.split(\"_\")[1:]))\n",
    "        plt.plot([xn[i],xn[j]], [yn[i],yn[j]])\n",
    "xx = []\n",
    "yy = []\n",
    "for k,v in y_vars.items():\n",
    "    if v.varValue > 0.5:\n",
    "        i,a = list(map(int,k.split(\"_\")[1:]))\n",
    "        xx.append(xn[i])\n",
    "        yy.append(yn[i])\n",
    "plt.scatter(xx,yy);"
   ]
  },
  {
   "cell_type": "code",
   "execution_count": 147,
   "metadata": {},
   "outputs": [],
   "source": [
    "movedNode = 1\n",
    "xFreezInd = []\n",
    "yFreezInd = []\n",
    "wFreezInd = []\n",
    "eFreezInd = []\n",
    "releaseNode = [movedNode]\n",
    "start = movedNode\n",
    "while w_vars[\"w_{0}\".format(ForwardPath[start])].varValue != 1:\n",
    "    releaseNode.append(ForwardPath[start])\n",
    "    start = ForwardPath[start]\n",
    "sink = ForwardPath[start]\n",
    "start = movedNode\n",
    "while w_vars[\"w_{0}\".format(BackwardPath[start])].varValue != 1:\n",
    "    releaseNode.append(BackwardPath[start])\n",
    "    start = BackwardPath[start]\n",
    "source = BackwardPath[start]"
   ]
  },
  {
   "cell_type": "code",
   "execution_count": 148,
   "metadata": {},
   "outputs": [
    {
     "data": {
      "text/plain": [
       "([1], 3, 7)"
      ]
     },
     "execution_count": 148,
     "metadata": {},
     "output_type": "execute_result"
    }
   ],
   "source": [
    "releaseNode, source, sink"
   ]
  },
  {
   "cell_type": "code",
   "execution_count": 149,
   "metadata": {},
   "outputs": [],
   "source": [
    "for k,v in x_vars.items():\n",
    "    if v.varValue > 0.0:\n",
    "        i,j = list(map(int,k.split(\"_\")[1:]))\n",
    "        if not ((i in releaseNode) or (j in releaseNode)):\n",
    "            xFreezInd.append((i,j))"
   ]
  },
  {
   "cell_type": "code",
   "execution_count": 150,
   "metadata": {},
   "outputs": [
    {
     "data": {
      "text/plain": [
       "[(0, 6), (6, 3)]"
      ]
     },
     "execution_count": 150,
     "metadata": {},
     "output_type": "execute_result"
    }
   ],
   "source": [
    "xFreezInd"
   ]
  },
  {
   "cell_type": "code",
   "execution_count": 151,
   "metadata": {},
   "outputs": [],
   "source": [
    "for k,v in y_vars.items():\n",
    "    if v.varValue > 0.0:\n",
    "        i,a = list(map(int,k.split(\"_\")[1:]))\n",
    "        if not (i in releaseNode):\n",
    "            yFreezInd.append((i,a))"
   ]
  },
  {
   "cell_type": "code",
   "execution_count": 152,
   "metadata": {},
   "outputs": [
    {
     "data": {
      "text/plain": [
       "[(0, 0), (3, 2), (6, 1), (7, 3)]"
      ]
     },
     "execution_count": 152,
     "metadata": {},
     "output_type": "execute_result"
    }
   ],
   "source": [
    "yFreezInd"
   ]
  },
  {
   "cell_type": "code",
   "execution_count": 153,
   "metadata": {},
   "outputs": [],
   "source": [
    "for k,v in w_vars.items():\n",
    "    if v.varValue > 0.0:\n",
    "        i = list(map(int,k.split(\"_\")[1:]))\n",
    "        if not (i[0] in releaseNode):\n",
    "            wFreezInd.append(i[0])"
   ]
  },
  {
   "cell_type": "code",
   "execution_count": 154,
   "metadata": {},
   "outputs": [
    {
     "data": {
      "text/plain": [
       "[0, 3, 6, 7]"
      ]
     },
     "execution_count": 154,
     "metadata": {},
     "output_type": "execute_result"
    }
   ],
   "source": [
    "wFreezInd"
   ]
  },
  {
   "cell_type": "code",
   "execution_count": 155,
   "metadata": {},
   "outputs": [],
   "source": [
    "for k,v in e_vars.items():\n",
    "    if v.varValue > 0.0:\n",
    "        i = list(map(int,k.split(\"_\")[1:]))\n",
    "        if not (i[0] in releaseNode):\n",
    "            eFreezInd.append(i[0])"
   ]
  },
  {
   "cell_type": "code",
   "execution_count": 156,
   "metadata": {},
   "outputs": [
    {
     "data": {
      "text/plain": [
       "[3, 6]"
      ]
     },
     "execution_count": 156,
     "metadata": {},
     "output_type": "execute_result"
    }
   ],
   "source": [
    "eFreezInd"
   ]
  },
  {
   "cell_type": "code",
   "execution_count": 157,
   "metadata": {},
   "outputs": [],
   "source": [
    "opt_model = createModel(xn_vars, yn_vars, wn_vars, en_vars, tn_vars, An)\n",
    "\n",
    "\n",
    "\n",
    "con = [opt_model.addConstraint(plp.LpConstraint(\n",
    "            e = xn_vars[\"x_{0}_{1}\".format(i,j)] , \n",
    "            sense = plp.LpConstraintEQ,\n",
    "            rhs = 1,\n",
    "            name=\"fixx_{0}_{1}\".format(i,j))) for i,j in xFreezInd]\n",
    "\n",
    "con = [opt_model.addConstraint(plp.LpConstraint(\n",
    "            e = yn_vars[\"y_{0}_{1}\".format(i,a)] , \n",
    "            sense = plp.LpConstraintEQ,\n",
    "            rhs = 1,\n",
    "            name=\"fixy_{0}_{1}\".format(i,a))) for i,a in yFreezInd]\n",
    "\n",
    "con = [opt_model.addConstraint(plp.LpConstraint(\n",
    "            e = wn_vars[\"w_{0}\".format(i)] , \n",
    "            sense = plp.LpConstraintEQ,\n",
    "            rhs = 1,\n",
    "            name=\"fixw_{0}\".format(i))) for i in wFreezInd]\n",
    "\n",
    "con = [opt_model.addConstraint(plp.LpConstraint(\n",
    "            e = en_vars[\"e_{0}\".format(i)] , \n",
    "            sense = plp.LpConstraintEQ,\n",
    "            rhs = 1,\n",
    "            name=\"fixe_{0}\".format(i))) for i in eFreezInd]\n",
    "\n",
    "\n",
    "timeSlotCost  =  plp.LpVariable(cat = plp.LpInteger, name=\"timeSlotCost\")\n",
    "handOverCost  =  plp.LpVariable(cat = plp.LpContinuous, name=\"handOverCost\")\n",
    "migrationCost  =  plp.LpVariable(cat = plp.LpContinuous, name=\"migrationCost\")\n",
    "\n",
    "opt_model.addConstraint(plp.LpConstraint(\n",
    "            e = timeSlotCost - plp.lpSum(xn_vars[\"x_{0}_{1}\".format(i,j)] for i in range(n) for j in range(n)) , \n",
    "            sense = plp.LpConstraintEQ,\n",
    "            rhs = 0,\n",
    "            name=\"timeslotcost\"))\n",
    "\n",
    "opt_model.addConstraint(plp.LpConstraint(\n",
    "            e = 2*handOverCost - plp.lpSum(xn_vars[\"x_{0}_{1}\".format(i,j)]*(1-x_vars[\"x_{0}_{1}\".format(i,j)].varValue) for i in range(n) for j in range(n)) , \n",
    "            sense = plp.LpConstraintEQ,\n",
    "            rhs = 0,\n",
    "            name=\"handovercost\"))\n",
    "\n",
    "opt_model.addConstraint(plp.LpConstraint(\n",
    "            e = migrationCost - plp.lpSum(yn_vars[\"y_{0}_{1}\".format(i,a)]*(1-y_vars[\"y_{0}_{1}\".format(i,a)].varValue) for i in range(n) for a in range(m)) , \n",
    "            sense = plp.LpConstraintEQ,\n",
    "            rhs = 0,\n",
    "            name=\"migrationcost\"))"
   ]
  },
  {
   "cell_type": "code",
   "execution_count": 158,
   "metadata": {},
   "outputs": [
    {
     "data": {
      "text/plain": [
       "1"
      ]
     },
     "execution_count": 158,
     "metadata": {},
     "output_type": "execute_result"
    }
   ],
   "source": [
    "opt_model_objective = timeSlotCost + handOverCost + migrationCost\n",
    "# for minimization\n",
    "opt_model.sense = plp.LpMinimize\n",
    "opt_model.setObjective(opt_model_objective)\n",
    "# LP -> MILP (mixed integer linear programming)\n",
    "# simplex -> cplex(simplex + Branch&Bound)\n",
    "# solving with local cplex\n",
    "opt_model.solve()"
   ]
  },
  {
   "cell_type": "code",
   "execution_count": 159,
   "metadata": {},
   "outputs": [
    {
     "data": {
      "text/plain": [
       "1*handOverCost + 1*migrationCost + 1*timeSlotCost + 0"
      ]
     },
     "execution_count": 159,
     "metadata": {},
     "output_type": "execute_result"
    }
   ],
   "source": [
    "opt_model_objective"
   ]
  },
  {
   "cell_type": "code",
   "execution_count": 160,
   "metadata": {},
   "outputs": [
    {
     "data": {
      "text/plain": [
       "(4.0, 1.0, 0.0)"
      ]
     },
     "execution_count": 160,
     "metadata": {},
     "output_type": "execute_result"
    }
   ],
   "source": [
    "timeSlotCost.varValue, handOverCost.varValue, migrationCost.varValue"
   ]
  },
  {
   "cell_type": "code",
   "execution_count": 161,
   "metadata": {
    "scrolled": true
   },
   "outputs": [
    {
     "data": {
      "image/png": "[encoded data removed]",
      "text/plain": [
       "<Figure size 432x288 with 1 Axes>"
      ]
     },
     "metadata": {
      "needs_background": "light"
     },
     "output_type": "display_data"
    }
   ],
   "source": [
    "plt.scatter(xn,yn);\n",
    "for i in range(n):\n",
    "    plt.annotate(i, (xn[i], yn[i]))\n",
    "    \n",
    "for k,v in xn_vars.items():\n",
    "    if v.varValue > 0.5:\n",
    "        i,j = list(map(int,k.split(\"_\")[1:]))\n",
    "        plt.plot([xn[i],xn[j]], [yn[i],yn[j]])\n",
    "xx = []\n",
    "yy = []\n",
    "for k,v in yn_vars.items():\n",
    "    if v.varValue > 0.5:\n",
    "        i,a = list(map(int,k.split(\"_\")[1:]))\n",
    "        xx.append(xn[i])\n",
    "        yy.append(yn[i])\n",
    "plt.scatter(xx,yy);"
   ]
  }
 ],
 "metadata": {
  "kernelspec": {
   "display_name": "Python 3",
   "language": "python",
   "name": "python3"
  },
  "language_info": {
   "codemirror_mode": {
    "name": "ipython",
    "version": 3
   },
   "file_extension": ".py",
   "mimetype": "text/x-python",
   "name": "python",
   "nbconvert_exporter": "python",
   "pygments_lexer": "ipython3",
   "version": "3.7.6"
  },
  "varInspector": {
   "cols": {
    "lenName": 16,
    "lenType": 16,
    "lenVar": 40
   },
   "kernels_config": {
    "python": {
     "delete_cmd_postfix": "",
     "delete_cmd_prefix": "del ",
     "library": "var_list.py",
     "varRefreshCmd": "print(var_dic_list())"
    },
    "r": {
     "delete_cmd_postfix": ") ",
     "delete_cmd_prefix": "rm(",
     "library": "var_list.r",
     "varRefreshCmd": "cat(var_dic_list()) "
    }
   },
   "types_to_exclude": [
    "module",
    "function",
    "builtin_function_or_method",
    "instance",
    "_Feature"
   ],
   "window_display": false
  }
 },
 "nbformat": 4,
 "nbformat_minor": 4
}
